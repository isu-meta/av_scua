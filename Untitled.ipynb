{
 "cells": [
  {
   "cell_type": "code",
   "execution_count": 1,
   "metadata": {},
   "outputs": [],
   "source": [
    "d = {\n",
    "    \"data\": [\n",
    "        {\n",
    "            \"pk\": 2,\n",
    "            \"uid\": \"1\",\n",
    "            \"original_id\": \"11\",\n",
    "            \"collection_id\": \"111\",\n",
    "            \"item_title\": \"Test Title\",\n",
    "            \"series_title\": \"\",\n",
    "            \"episode_title\": \"Test Title\",\n",
    "            \"can_number\": \"Test-14\",\n",
    "            \"original_can_number\": \"Test-14\",\n",
    "            \"call_number\": \"1234\",\n",
    "            \"date_created\": \"2018-01-01\",\n",
    "            \"credits\": \"None\",\n",
    "            \"description\": \"ipsom fac som som ip\",\n",
    "            \"location\": \"Iowa\"\n",
    "        },\n",
    "        {\n",
    "            \"pk\": 3,\n",
    "            \"uid\": \"123456\",\n",
    "            \"original_id\": \"12345655\",\n",
    "            \"collection_id\": \"AV 123\",\n",
    "            \"item_title\": \"Audio Visual Test\",\n",
    "            \"series_title\": \"Audio Visual Series\",\n",
    "            \"episode_title\": \"Test Episode\",\n",
    "            \"can_number\": \"RS 18\",\n",
    "            \"original_can_number\": \"RL 19\",\n",
    "            \"call_number\": \"RF 22\",\n",
    "            \"date_created\": \"2018-05-05\",\n",
    "            \"credits\": \"Everyone\",\n",
    "            \"description\": \"This is a test, for setting up db.\",\n",
    "            \"location\": \"Parks\"\n",
    "        }\n",
    "    ],\n",
    "    \"recordsFiltered\": 2,\n",
    "    \"recordsTotal\": 2,\n",
    "    \"draw\": 1\n",
    "}"
   ]
  },
  {
   "cell_type": "code",
   "execution_count": 5,
   "metadata": {},
   "outputs": [],
   "source": [
    "columns = d[\"data\"]"
   ]
  },
  {
   "cell_type": "code",
   "execution_count": 6,
   "metadata": {},
   "outputs": [
    {
     "ename": "TypeError",
     "evalue": "list indices must be integers or slices, not str",
     "output_type": "error",
     "traceback": [
      "\u001b[1;31m---------------------------------------------------------------------------\u001b[0m",
      "\u001b[1;31mTypeError\u001b[0m                                 Traceback (most recent call last)",
      "\u001b[1;32m<ipython-input-6-3c3bef645d3a>\u001b[0m in \u001b[0;36m<module>\u001b[1;34m()\u001b[0m\n\u001b[1;32m----> 1\u001b[1;33m \u001b[0mcolumns\u001b[0m\u001b[1;33m[\u001b[0m\u001b[1;34m\"call_number\"\u001b[0m\u001b[1;33m]\u001b[0m\u001b[1;33m\u001b[0m\u001b[0m\n\u001b[0m",
      "\u001b[1;31mTypeError\u001b[0m: list indices must be integers or slices, not str"
     ]
    }
   ],
   "source": [
    "columns[\"call_number\"]"
   ]
  },
  {
   "cell_type": "code",
   "execution_count": null,
   "metadata": {},
   "outputs": [],
   "source": []
  }
 ],
 "metadata": {
  "kernelspec": {
   "display_name": "Python 3",
   "language": "python",
   "name": "python3"
  },
  "language_info": {
   "codemirror_mode": {
    "name": "ipython",
    "version": 3
   },
   "file_extension": ".py",
   "mimetype": "text/x-python",
   "name": "python",
   "nbconvert_exporter": "python",
   "pygments_lexer": "ipython3",
   "version": "3.6.4"
  }
 },
 "nbformat": 4,
 "nbformat_minor": 2
}
